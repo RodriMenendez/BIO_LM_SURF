{
  "nbformat": 4,
  "nbformat_minor": 0,
  "metadata": {
    "colab": {
      "provenance": [],
      "gpuType": "T4",
      "mount_file_id": "1oF6lqBs52qjWSt56f2JWJ1IBhLaotlcI",
      "authorship_tag": "ABX9TyMyUvU/39iOrh/UadjNiaX4",
      "include_colab_link": true
    },
    "kernelspec": {
      "name": "python3",
      "display_name": "Python 3"
    },
    "language_info": {
      "name": "python"
    },
    "accelerator": "GPU",
    "widgets": {
      "application/vnd.jupyter.widget-state+json": {
        "2b5035bd6bb744eab80078acf102bf86": {
          "model_module": "@jupyter-widgets/controls",
          "model_name": "VBoxModel",
          "model_module_version": "1.5.0",
          "state": {
            "_dom_classes": [],
            "_model_module": "@jupyter-widgets/controls",
            "_model_module_version": "1.5.0",
            "_model_name": "VBoxModel",
            "_view_count": null,
            "_view_module": "@jupyter-widgets/controls",
            "_view_module_version": "1.5.0",
            "_view_name": "VBoxView",
            "box_style": "",
            "children": [
              "IPY_MODEL_40a67474ca8c424dbe2d6b840acb976c",
              "IPY_MODEL_38b33b14b7e64c4392fb5ad983bb859e"
            ],
            "layout": "IPY_MODEL_bba8bc36e7ec4180a3c97533c9855c96"
          }
        },
        "40a67474ca8c424dbe2d6b840acb976c": {
          "model_module": "@jupyter-widgets/controls",
          "model_name": "LabelModel",
          "model_module_version": "1.5.0",
          "state": {
            "_dom_classes": [],
            "_model_module": "@jupyter-widgets/controls",
            "_model_module_version": "1.5.0",
            "_model_name": "LabelModel",
            "_view_count": null,
            "_view_module": "@jupyter-widgets/controls",
            "_view_module_version": "1.5.0",
            "_view_name": "LabelView",
            "description": "",
            "description_tooltip": null,
            "layout": "IPY_MODEL_8e5cec763e2940aab114e72eabc679c9",
            "placeholder": "​",
            "style": "IPY_MODEL_6cd56fb95173499bbaa0599fc2e862f4",
            "value": "0.009 MB of 0.011 MB uploaded (0.000 MB deduped)\r"
          }
        },
        "38b33b14b7e64c4392fb5ad983bb859e": {
          "model_module": "@jupyter-widgets/controls",
          "model_name": "FloatProgressModel",
          "model_module_version": "1.5.0",
          "state": {
            "_dom_classes": [],
            "_model_module": "@jupyter-widgets/controls",
            "_model_module_version": "1.5.0",
            "_model_name": "FloatProgressModel",
            "_view_count": null,
            "_view_module": "@jupyter-widgets/controls",
            "_view_module_version": "1.5.0",
            "_view_name": "ProgressView",
            "bar_style": "",
            "description": "",
            "description_tooltip": null,
            "layout": "IPY_MODEL_c496cb8c17cd4c99978bc3dc5a678dc1",
            "max": 1,
            "min": 0,
            "orientation": "horizontal",
            "style": "IPY_MODEL_03ccc854fd5d45bab988a8bb2c228628",
            "value": 0.8791022087096486
          }
        },
        "bba8bc36e7ec4180a3c97533c9855c96": {
          "model_module": "@jupyter-widgets/base",
          "model_name": "LayoutModel",
          "model_module_version": "1.2.0",
          "state": {
            "_model_module": "@jupyter-widgets/base",
            "_model_module_version": "1.2.0",
            "_model_name": "LayoutModel",
            "_view_count": null,
            "_view_module": "@jupyter-widgets/base",
            "_view_module_version": "1.2.0",
            "_view_name": "LayoutView",
            "align_content": null,
            "align_items": null,
            "align_self": null,
            "border": null,
            "bottom": null,
            "display": null,
            "flex": null,
            "flex_flow": null,
            "grid_area": null,
            "grid_auto_columns": null,
            "grid_auto_flow": null,
            "grid_auto_rows": null,
            "grid_column": null,
            "grid_gap": null,
            "grid_row": null,
            "grid_template_areas": null,
            "grid_template_columns": null,
            "grid_template_rows": null,
            "height": null,
            "justify_content": null,
            "justify_items": null,
            "left": null,
            "margin": null,
            "max_height": null,
            "max_width": null,
            "min_height": null,
            "min_width": null,
            "object_fit": null,
            "object_position": null,
            "order": null,
            "overflow": null,
            "overflow_x": null,
            "overflow_y": null,
            "padding": null,
            "right": null,
            "top": null,
            "visibility": null,
            "width": null
          }
        },
        "8e5cec763e2940aab114e72eabc679c9": {
          "model_module": "@jupyter-widgets/base",
          "model_name": "LayoutModel",
          "model_module_version": "1.2.0",
          "state": {
            "_model_module": "@jupyter-widgets/base",
            "_model_module_version": "1.2.0",
            "_model_name": "LayoutModel",
            "_view_count": null,
            "_view_module": "@jupyter-widgets/base",
            "_view_module_version": "1.2.0",
            "_view_name": "LayoutView",
            "align_content": null,
            "align_items": null,
            "align_self": null,
            "border": null,
            "bottom": null,
            "display": null,
            "flex": null,
            "flex_flow": null,
            "grid_area": null,
            "grid_auto_columns": null,
            "grid_auto_flow": null,
            "grid_auto_rows": null,
            "grid_column": null,
            "grid_gap": null,
            "grid_row": null,
            "grid_template_areas": null,
            "grid_template_columns": null,
            "grid_template_rows": null,
            "height": null,
            "justify_content": null,
            "justify_items": null,
            "left": null,
            "margin": null,
            "max_height": null,
            "max_width": null,
            "min_height": null,
            "min_width": null,
            "object_fit": null,
            "object_position": null,
            "order": null,
            "overflow": null,
            "overflow_x": null,
            "overflow_y": null,
            "padding": null,
            "right": null,
            "top": null,
            "visibility": null,
            "width": null
          }
        },
        "6cd56fb95173499bbaa0599fc2e862f4": {
          "model_module": "@jupyter-widgets/controls",
          "model_name": "DescriptionStyleModel",
          "model_module_version": "1.5.0",
          "state": {
            "_model_module": "@jupyter-widgets/controls",
            "_model_module_version": "1.5.0",
            "_model_name": "DescriptionStyleModel",
            "_view_count": null,
            "_view_module": "@jupyter-widgets/base",
            "_view_module_version": "1.2.0",
            "_view_name": "StyleView",
            "description_width": ""
          }
        },
        "c496cb8c17cd4c99978bc3dc5a678dc1": {
          "model_module": "@jupyter-widgets/base",
          "model_name": "LayoutModel",
          "model_module_version": "1.2.0",
          "state": {
            "_model_module": "@jupyter-widgets/base",
            "_model_module_version": "1.2.0",
            "_model_name": "LayoutModel",
            "_view_count": null,
            "_view_module": "@jupyter-widgets/base",
            "_view_module_version": "1.2.0",
            "_view_name": "LayoutView",
            "align_content": null,
            "align_items": null,
            "align_self": null,
            "border": null,
            "bottom": null,
            "display": null,
            "flex": null,
            "flex_flow": null,
            "grid_area": null,
            "grid_auto_columns": null,
            "grid_auto_flow": null,
            "grid_auto_rows": null,
            "grid_column": null,
            "grid_gap": null,
            "grid_row": null,
            "grid_template_areas": null,
            "grid_template_columns": null,
            "grid_template_rows": null,
            "height": null,
            "justify_content": null,
            "justify_items": null,
            "left": null,
            "margin": null,
            "max_height": null,
            "max_width": null,
            "min_height": null,
            "min_width": null,
            "object_fit": null,
            "object_position": null,
            "order": null,
            "overflow": null,
            "overflow_x": null,
            "overflow_y": null,
            "padding": null,
            "right": null,
            "top": null,
            "visibility": null,
            "width": null
          }
        },
        "03ccc854fd5d45bab988a8bb2c228628": {
          "model_module": "@jupyter-widgets/controls",
          "model_name": "ProgressStyleModel",
          "model_module_version": "1.5.0",
          "state": {
            "_model_module": "@jupyter-widgets/controls",
            "_model_module_version": "1.5.0",
            "_model_name": "ProgressStyleModel",
            "_view_count": null,
            "_view_module": "@jupyter-widgets/base",
            "_view_module_version": "1.2.0",
            "_view_name": "StyleView",
            "bar_color": null,
            "description_width": ""
          }
        }
      }
    }
  },
  "cells": [
    {
      "cell_type": "markdown",
      "metadata": {
        "id": "view-in-github",
        "colab_type": "text"
      },
      "source": [
        "<a href=\"https://colab.research.google.com/github/RodriMenendez/BIO_LM_SURF/blob/main/Classification.ipynb\" target=\"_parent\"><img src=\"https://colab.research.google.com/assets/colab-badge.svg\" alt=\"Open In Colab\"/></a>"
      ]
    },
    {
      "cell_type": "markdown",
      "source": [
        "## Setup"
      ],
      "metadata": {
        "id": "jzHi5XmJS7yN"
      }
    },
    {
      "cell_type": "code",
      "source": [
        "!pip install wandb"
      ],
      "metadata": {
        "colab": {
          "base_uri": "https://localhost:8080/"
        },
        "id": "FIBtxhj9x1Po",
        "outputId": "6c66fb2c-05fc-41af-da5b-67882453a9bb"
      },
      "execution_count": 1,
      "outputs": [
        {
          "output_type": "stream",
          "name": "stdout",
          "text": [
            "Requirement already satisfied: wandb in /usr/local/lib/python3.10/dist-packages (0.15.4)\n",
            "Requirement already satisfied: Click!=8.0.0,>=7.0 in /usr/local/lib/python3.10/dist-packages (from wandb) (8.1.3)\n",
            "Requirement already satisfied: GitPython!=3.1.29,>=1.0.0 in /usr/local/lib/python3.10/dist-packages (from wandb) (3.1.31)\n",
            "Requirement already satisfied: requests<3,>=2.0.0 in /usr/local/lib/python3.10/dist-packages (from wandb) (2.27.1)\n",
            "Requirement already satisfied: psutil>=5.0.0 in /usr/local/lib/python3.10/dist-packages (from wandb) (5.9.5)\n",
            "Requirement already satisfied: sentry-sdk>=1.0.0 in /usr/local/lib/python3.10/dist-packages (from wandb) (1.26.0)\n",
            "Requirement already satisfied: docker-pycreds>=0.4.0 in /usr/local/lib/python3.10/dist-packages (from wandb) (0.4.0)\n",
            "Requirement already satisfied: PyYAML in /usr/local/lib/python3.10/dist-packages (from wandb) (6.0)\n",
            "Requirement already satisfied: pathtools in /usr/local/lib/python3.10/dist-packages (from wandb) (0.1.2)\n",
            "Requirement already satisfied: setproctitle in /usr/local/lib/python3.10/dist-packages (from wandb) (1.3.2)\n",
            "Requirement already satisfied: setuptools in /usr/local/lib/python3.10/dist-packages (from wandb) (67.7.2)\n",
            "Requirement already satisfied: appdirs>=1.4.3 in /usr/local/lib/python3.10/dist-packages (from wandb) (1.4.4)\n",
            "Requirement already satisfied: protobuf!=4.21.0,<5,>=3.19.0 in /usr/local/lib/python3.10/dist-packages (from wandb) (3.20.3)\n",
            "Requirement already satisfied: six>=1.4.0 in /usr/local/lib/python3.10/dist-packages (from docker-pycreds>=0.4.0->wandb) (1.16.0)\n",
            "Requirement already satisfied: gitdb<5,>=4.0.1 in /usr/local/lib/python3.10/dist-packages (from GitPython!=3.1.29,>=1.0.0->wandb) (4.0.10)\n",
            "Requirement already satisfied: urllib3<1.27,>=1.21.1 in /usr/local/lib/python3.10/dist-packages (from requests<3,>=2.0.0->wandb) (1.26.16)\n",
            "Requirement already satisfied: certifi>=2017.4.17 in /usr/local/lib/python3.10/dist-packages (from requests<3,>=2.0.0->wandb) (2023.5.7)\n",
            "Requirement already satisfied: charset-normalizer~=2.0.0 in /usr/local/lib/python3.10/dist-packages (from requests<3,>=2.0.0->wandb) (2.0.12)\n",
            "Requirement already satisfied: idna<4,>=2.5 in /usr/local/lib/python3.10/dist-packages (from requests<3,>=2.0.0->wandb) (3.4)\n",
            "Requirement already satisfied: smmap<6,>=3.0.1 in /usr/local/lib/python3.10/dist-packages (from gitdb<5,>=4.0.1->GitPython!=3.1.29,>=1.0.0->wandb) (5.0.0)\n"
          ]
        }
      ]
    },
    {
      "cell_type": "code",
      "source": [
        "!wandb login"
      ],
      "metadata": {
        "colab": {
          "base_uri": "https://localhost:8080/"
        },
        "id": "egkVy6o4x7mo",
        "outputId": "44dea05d-0656-4764-b3fb-07e18b5db72d"
      },
      "execution_count": 2,
      "outputs": [
        {
          "output_type": "stream",
          "name": "stdout",
          "text": [
            "\u001b[34m\u001b[1mwandb\u001b[0m: W&B API key is configured. Use \u001b[1m`wandb login --relogin`\u001b[0m to force relogin\n"
          ]
        }
      ]
    },
    {
      "cell_type": "code",
      "execution_count": 3,
      "metadata": {
        "id": "d3hbElgb_1rt"
      },
      "outputs": [],
      "source": [
        "import numpy as np\n",
        "\n",
        "import torch\n",
        "import torch.nn as nn\n",
        "import torch.nn.functional as F\n",
        "import torchvision\n",
        "import torchvision.transforms as transforms\n",
        "from torchsummary import summary\n",
        "\n",
        "import matplotlib.pyplot as plt\n",
        "import matplotlib.image as mpimg\n",
        "\n",
        "import wandb\n",
        "import time"
      ]
    },
    {
      "cell_type": "markdown",
      "source": [
        "## Data Preprocessing"
      ],
      "metadata": {
        "id": "9lBp9u8UTAbU"
      }
    },
    {
      "cell_type": "code",
      "source": [
        "path = '/content/drive/MyDrive/SURF_2023/Practice'\n",
        "\n",
        "transform = transforms.Compose([\n",
        "    transforms.Resize(256),\n",
        "    transforms.CenterCrop(224),\n",
        "    transforms.ToTensor(),\n",
        "    transforms.Normalize(mean=[0.485, 0.456, 0.406], std=[0.229, 0.224, 0.225])\n",
        "])\n",
        "train_data = torchvision.datasets.CIFAR10(root=path+'/cifar10', train=True, transform=transform, download=True)\n",
        "\n",
        "batch_size = 32\n",
        "trainloader = torch.utils.data.DataLoader(train_data, batch_size=batch_size,\n",
        "                                          shuffle=True, num_workers=2)"
      ],
      "metadata": {
        "colab": {
          "base_uri": "https://localhost:8080/"
        },
        "id": "SqDLhYaKA3TI",
        "outputId": "635f0a40-f03f-4ed2-b5e6-5e6bf52e5ea0"
      },
      "execution_count": 4,
      "outputs": [
        {
          "output_type": "stream",
          "name": "stdout",
          "text": [
            "Files already downloaded and verified\n"
          ]
        }
      ]
    },
    {
      "cell_type": "code",
      "source": [
        "test_data = torchvision.datasets.CIFAR10(root=path+'/cifar10', train=False, transform=transform, download=True)\n",
        "testloader = torch.utils.data.DataLoader(test_data, batch_size=batch_size,\n",
        "                                          shuffle=False, num_workers=2)"
      ],
      "metadata": {
        "colab": {
          "base_uri": "https://localhost:8080/"
        },
        "id": "ZBnucAjaCeRT",
        "outputId": "841d2123-a9ca-4ce1-c124-a0d2a63634d3"
      },
      "execution_count": 5,
      "outputs": [
        {
          "output_type": "stream",
          "name": "stdout",
          "text": [
            "Files already downloaded and verified\n"
          ]
        }
      ]
    },
    {
      "cell_type": "code",
      "source": [
        "classes = ['plane', 'car', 'bird', 'cat',\n",
        "           'deer', 'dog', 'frog', 'horse', 'ship', 'truck']"
      ],
      "metadata": {
        "id": "4ffFEcyuPFnr"
      },
      "execution_count": 6,
      "outputs": []
    },
    {
      "cell_type": "markdown",
      "source": [
        "## Image Example"
      ],
      "metadata": {
        "id": "EwPFfOhXTE6T"
      }
    },
    {
      "cell_type": "code",
      "source": [
        "i = np.random.randint(0, high=len(train_data))\n",
        "\n",
        "plt.figure(figsize=(2, 2))\n",
        "plt.imshow(np.array(train_data[i][0]).T)\n",
        "plt.title(classes[train_data[i][1]])"
      ],
      "metadata": {
        "colab": {
          "base_uri": "https://localhost:8080/",
          "height": 273
        },
        "id": "Vfuakmu7OE34",
        "outputId": "23286041-1da7-478c-826b-665148aefbcf"
      },
      "execution_count": 7,
      "outputs": [
        {
          "output_type": "stream",
          "name": "stderr",
          "text": [
            "WARNING:matplotlib.image:Clipping input data to the valid range for imshow with RGB data ([0..1] for floats or [0..255] for integers).\n"
          ]
        },
        {
          "output_type": "execute_result",
          "data": {
            "text/plain": [
              "Text(0.5, 1.0, 'deer')"
            ]
          },
          "metadata": {},
          "execution_count": 7
        },
        {
          "output_type": "display_data",
          "data": {
            "text/plain": [
              "<Figure size 200x200 with 1 Axes>"
            ],
            "image/png": "[encoded data removed]"
          },
          "metadata": {}
        }
      ]
    },
    {
      "cell_type": "markdown",
      "source": [
        "## RestNet tutorial\n",
        "Link: https://pytorch.org/hub/pytorch_vision_resnet/ \\\n",
        "Downloding model and getting output"
      ],
      "metadata": {
        "id": "qy3gAY2oW_vb"
      }
    },
    {
      "cell_type": "code",
      "source": [
        "model = torchvision.models.resnet18(weights='DEFAULT')\n",
        "# pre-trained model weights kept constant\n",
        "for param in model.parameters():\n",
        "    param.requires_grad = False"
      ],
      "metadata": {
        "id": "wZIJvMg67gcQ"
      },
      "execution_count": 8,
      "outputs": []
    },
    {
      "cell_type": "code",
      "source": [
        "# Download ImageNet labels\n",
        "!wget https://raw.githubusercontent.com/pytorch/hub/master/imagenet_classes.txt"
      ],
      "metadata": {
        "colab": {
          "base_uri": "https://localhost:8080/"
        },
        "id": "0nK1aypzWw0S",
        "outputId": "1d34e2df-6fce-4e99-b729-f885c13c62f3"
      },
      "execution_count": 9,
      "outputs": [
        {
          "output_type": "stream",
          "name": "stdout",
          "text": [
            "--2023-06-29 02:30:52--  https://raw.githubusercontent.com/pytorch/hub/master/imagenet_classes.txt\n",
            "Resolving raw.githubusercontent.com (raw.githubusercontent.com)... 185.199.108.133, 185.199.109.133, 185.199.110.133, ...\n",
            "Connecting to raw.githubusercontent.com (raw.githubusercontent.com)|185.199.108.133|:443... connected.\n",
            "HTTP request sent, awaiting response... 200 OK\n",
            "Length: 10472 (10K) [text/plain]\n",
            "Saving to: ‘imagenet_classes.txt.2’\n",
            "\n",
            "imagenet_classes.tx 100%[===================>]  10.23K  --.-KB/s    in 0s      \n",
            "\n",
            "2023-06-29 02:30:52 (69.0 MB/s) - ‘imagenet_classes.txt.2’ saved [10472/10472]\n",
            "\n"
          ]
        }
      ]
    },
    {
      "cell_type": "code",
      "source": [
        "# Read the categories\n",
        "with open(\"imagenet_classes.txt\", \"r\") as f:\n",
        "    categories = [s.strip() for s in f.readlines()]"
      ],
      "metadata": {
        "id": "eQ9l_c6JbCLx"
      },
      "execution_count": 10,
      "outputs": []
    },
    {
      "cell_type": "markdown",
      "source": [
        "## Adding Classification Head"
      ],
      "metadata": {
        "id": "MsSm9lX6czIj"
      }
    },
    {
      "cell_type": "code",
      "source": [
        "class Classification(nn.Module):\n",
        "    def __init__(self, pretrained_model):\n",
        "        super().__init__()\n",
        "        self.pretrained_model = pretrained_model\n",
        "        self.layer1 = nn.Linear(1000, 1000)\n",
        "        self.layer2 = nn.Linear(1000, 10)\n",
        "\n",
        "    def probabilities(self, x):\n",
        "        output =  self.pretrained_model(x)\n",
        "        output = F.relu(self.layer1(output))\n",
        "        output = F.softmax(self.layer2(output), dim=1)\n",
        "\n",
        "        return output\n",
        "\n",
        "    def forward(self, x):\n",
        "        output = self.probabilities(x)\n",
        "        output = torch.argmax(output, dim=1)\n",
        "\n",
        "        return output"
      ],
      "metadata": {
        "id": "pqMwoGHHcySs"
      },
      "execution_count": 94,
      "outputs": []
    },
    {
      "cell_type": "code",
      "source": [
        "clf_model = Classification(model)\n",
        "if torch.cuda.is_available():\n",
        "    clf_model.cuda()"
      ],
      "metadata": {
        "id": "4nsSewynekOR"
      },
      "execution_count": 95,
      "outputs": []
    },
    {
      "cell_type": "code",
      "source": [
        "from IPython.display import Javascript\n",
        "\n",
        "display(Javascript('''google.colab.output.setIframeHeight(0, true, {maxHeight: 185})'''))\n",
        "summary(clf_model, input_size=(3, 224, 224))"
      ],
      "metadata": {
        "colab": {
          "base_uri": "https://localhost:8080/",
          "height": 185
        },
        "id": "wjN7IU9g613v",
        "outputId": "c962c81e-02f1-42d2-98f5-86e858dccdc4"
      },
      "execution_count": 96,
      "outputs": [
        {
          "output_type": "display_data",
          "data": {
            "text/plain": [
              "<IPython.core.display.Javascript object>"
            ],
            "application/javascript": [
              "google.colab.output.setIframeHeight(0, true, {maxHeight: 185})"
            ]
          },
          "metadata": {}
        },
        {
          "output_type": "stream",
          "name": "stdout",
          "text": [
            "----------------------------------------------------------------\n",
            "        Layer (type)               Output Shape         Param #\n",
            "================================================================\n",
            "            Conv2d-1         [-1, 64, 112, 112]           9,408\n",
            "       BatchNorm2d-2         [-1, 64, 112, 112]             128\n",
            "              ReLU-3         [-1, 64, 112, 112]               0\n",
            "         MaxPool2d-4           [-1, 64, 56, 56]               0\n",
            "            Conv2d-5           [-1, 64, 56, 56]          36,864\n",
            "       BatchNorm2d-6           [-1, 64, 56, 56]             128\n",
            "              ReLU-7           [-1, 64, 56, 56]               0\n",
            "            Conv2d-8           [-1, 64, 56, 56]          36,864\n",
            "       BatchNorm2d-9           [-1, 64, 56, 56]             128\n",
            "             ReLU-10           [-1, 64, 56, 56]               0\n",
            "       BasicBlock-11           [-1, 64, 56, 56]               0\n",
            "           Conv2d-12           [-1, 64, 56, 56]          36,864\n",
            "      BatchNorm2d-13           [-1, 64, 56, 56]             128\n",
            "             ReLU-14           [-1, 64, 56, 56]               0\n",
            "           Conv2d-15           [-1, 64, 56, 56]          36,864\n",
            "      BatchNorm2d-16           [-1, 64, 56, 56]             128\n",
            "             ReLU-17           [-1, 64, 56, 56]               0\n",
            "       BasicBlock-18           [-1, 64, 56, 56]               0\n",
            "           Conv2d-19          [-1, 128, 28, 28]          73,728\n",
            "      BatchNorm2d-20          [-1, 128, 28, 28]             256\n",
            "             ReLU-21          [-1, 128, 28, 28]               0\n",
            "           Conv2d-22          [-1, 128, 28, 28]         147,456\n",
            "      BatchNorm2d-23          [-1, 128, 28, 28]             256\n",
            "           Conv2d-24          [-1, 128, 28, 28]           8,192\n",
            "      BatchNorm2d-25          [-1, 128, 28, 28]             256\n",
            "             ReLU-26          [-1, 128, 28, 28]               0\n",
            "       BasicBlock-27          [-1, 128, 28, 28]               0\n",
            "           Conv2d-28          [-1, 128, 28, 28]         147,456\n",
            "      BatchNorm2d-29          [-1, 128, 28, 28]             256\n",
            "             ReLU-30          [-1, 128, 28, 28]               0\n",
            "           Conv2d-31          [-1, 128, 28, 28]         147,456\n",
            "      BatchNorm2d-32          [-1, 128, 28, 28]             256\n",
            "             ReLU-33          [-1, 128, 28, 28]               0\n",
            "       BasicBlock-34          [-1, 128, 28, 28]               0\n",
            "           Conv2d-35          [-1, 256, 14, 14]         294,912\n",
            "      BatchNorm2d-36          [-1, 256, 14, 14]             512\n",
            "             ReLU-37          [-1, 256, 14, 14]               0\n",
            "           Conv2d-38          [-1, 256, 14, 14]         589,824\n",
            "      BatchNorm2d-39          [-1, 256, 14, 14]             512\n",
            "           Conv2d-40          [-1, 256, 14, 14]          32,768\n",
            "      BatchNorm2d-41          [-1, 256, 14, 14]             512\n",
            "             ReLU-42          [-1, 256, 14, 14]               0\n",
            "       BasicBlock-43          [-1, 256, 14, 14]               0\n",
            "           Conv2d-44          [-1, 256, 14, 14]         589,824\n",
            "      BatchNorm2d-45          [-1, 256, 14, 14]             512\n",
            "             ReLU-46          [-1, 256, 14, 14]               0\n",
            "           Conv2d-47          [-1, 256, 14, 14]         589,824\n",
            "      BatchNorm2d-48          [-1, 256, 14, 14]             512\n",
            "             ReLU-49          [-1, 256, 14, 14]               0\n",
            "       BasicBlock-50          [-1, 256, 14, 14]               0\n",
            "           Conv2d-51            [-1, 512, 7, 7]       1,179,648\n",
            "      BatchNorm2d-52            [-1, 512, 7, 7]           1,024\n",
            "             ReLU-53            [-1, 512, 7, 7]               0\n",
            "           Conv2d-54            [-1, 512, 7, 7]       2,359,296\n",
            "      BatchNorm2d-55            [-1, 512, 7, 7]           1,024\n",
            "           Conv2d-56            [-1, 512, 7, 7]         131,072\n",
            "      BatchNorm2d-57            [-1, 512, 7, 7]           1,024\n",
            "             ReLU-58            [-1, 512, 7, 7]               0\n",
            "       BasicBlock-59            [-1, 512, 7, 7]               0\n",
            "           Conv2d-60            [-1, 512, 7, 7]       2,359,296\n",
            "      BatchNorm2d-61            [-1, 512, 7, 7]           1,024\n",
            "             ReLU-62            [-1, 512, 7, 7]               0\n",
            "           Conv2d-63            [-1, 512, 7, 7]       2,359,296\n",
            "      BatchNorm2d-64            [-1, 512, 7, 7]           1,024\n",
            "             ReLU-65            [-1, 512, 7, 7]               0\n",
            "       BasicBlock-66            [-1, 512, 7, 7]               0\n",
            "AdaptiveAvgPool2d-67            [-1, 512, 1, 1]               0\n",
            "           Linear-68                 [-1, 1000]         513,000\n",
            "           ResNet-69                 [-1, 1000]               0\n",
            "           Linear-70                 [-1, 1000]       1,001,000\n",
            "           Linear-71                   [-1, 10]          10,010\n",
            "================================================================\n",
            "Total params: 12,700,522\n",
            "Trainable params: 1,011,010\n",
            "Non-trainable params: 11,689,512\n",
            "----------------------------------------------------------------\n",
            "Input size (MB): 0.57\n",
            "Forward/backward pass size (MB): 62.81\n",
            "Params size (MB): 48.45\n",
            "Estimated Total Size (MB): 111.83\n",
            "----------------------------------------------------------------\n"
          ]
        }
      ]
    },
    {
      "cell_type": "markdown",
      "source": [
        "## Training"
      ],
      "metadata": {
        "id": "ydfHN_UBOyXP"
      }
    },
    {
      "cell_type": "code",
      "source": [
        "lr = 1e-3\n",
        "momentum = 0.9\n",
        "\n",
        "loss_func = nn.CrossEntropyLoss()\n",
        "optimizer = torch.optim.SGD(clf_model.parameters(), lr=lr, momentum=momentum)"
      ],
      "metadata": {
        "id": "BUDtq4JlBU17"
      },
      "execution_count": 97,
      "outputs": []
    },
    {
      "cell_type": "code",
      "source": [
        "def train_step(trainloader, model):\n",
        "    correct = 0\n",
        "    step_loss = 0\n",
        "    for i, data in enumerate(trainloader, 0):\n",
        "        inputs, labels = data\n",
        "\n",
        "        if torch.cuda.is_available():\n",
        "            inputs, labels = inputs.cuda(), labels.cuda()\n",
        "\n",
        "        one_hot_labels = F.one_hot(labels, 10)\n",
        "\n",
        "        # zero parameter gradients\n",
        "        optimizer.zero_grad()\n",
        "\n",
        "        # update values\n",
        "        output = model.probabilities(inputs)\n",
        "        loss = loss_func(output, one_hot_labels.float())\n",
        "        step_loss += loss\n",
        "        loss.backward()\n",
        "        optimizer.step()\n",
        "\n",
        "        # get classification accuracy\n",
        "        accuracy_output = model(inputs)\n",
        "        correct += (accuracy_output == labels).float().sum()\n",
        "\n",
        "    step_loss /= len(trainloader)\n",
        "    return step_loss, correct\n",
        "\n",
        "def test_step(testloader, model):\n",
        "    correct = 0\n",
        "    for i, data in enumerate(testloader, 0):\n",
        "        inputs, labels = data\n",
        "\n",
        "        if torch.cuda.is_available():\n",
        "            inputs, labels = inputs.cuda(), labels.cuda()\n",
        "\n",
        "        output = model(inputs)\n",
        "\n",
        "        correct += (output == labels).float().sum()\n",
        "\n",
        "    return correct"
      ],
      "metadata": {
        "id": "qb9tOeB3vtfY"
      },
      "execution_count": 98,
      "outputs": []
    },
    {
      "cell_type": "code",
      "source": [
        "epochs = 4\n",
        "\n",
        "wandb.init(\n",
        "    project = \"CIFAR10-Resnet18-Classification\",\n",
        "    config={\n",
        "        \"learning rate\": lr,\n",
        "        \"momentum\": momentum,\n",
        "        \"epochs\": epochs,\n",
        "        \"dataset\": \"CIFAR10\",\n",
        "        \"architecture\": \"Resnet18\"\n",
        "    }\n",
        ")\n",
        "\n",
        "for t in range(epochs):\n",
        "    loss, train_correct = train_step(trainloader, clf_model)\n",
        "    train_accuracy = train_correct/len(train_data)\n",
        "\n",
        "    test_correct = test_step(testloader, clf_model)\n",
        "    test_accuracy = test_correct/len(test_data)\n",
        "\n",
        "    print(f'|Epoch: {t}\\t|Loss: {loss:.3}\\t|Train Accuracy: {train_accuracy:.3}\\t|Test Accuracy: {test_accuracy:.3}')\n",
        "\n",
        "    wandb.log({\"train_acc\": train_accuracy, \"test_acc\": test_accuracy, \"loss\": loss})"
      ],
      "metadata": {
        "colab": {
          "base_uri": "https://localhost:8080/",
          "height": 176
        },
        "id": "c_S1s7UGvp3f",
        "outputId": "977b715e-768c-49a0-e06e-1ffce38ead32"
      },
      "execution_count": 99,
      "outputs": [
        {
          "output_type": "display_data",
          "data": {
            "text/plain": [
              "<IPython.core.display.HTML object>"
            ],
            "text/html": [
              "Tracking run with wandb version 0.15.4"
            ]
          },
          "metadata": {}
        },
        {
          "output_type": "display_data",
          "data": {
            "text/plain": [
              "<IPython.core.display.HTML object>"
            ],
            "text/html": [
              "Run data is saved locally in <code>/content/wandb/run-20230629_035313-td89g6hs</code>"
            ]
          },
          "metadata": {}
        },
        {
          "output_type": "display_data",
          "data": {
            "text/plain": [
              "<IPython.core.display.HTML object>"
            ],
            "text/html": [
              "Syncing run <strong><a href='https://wandb.ai/surf-2023/CIFAR10-Resnet18-Classification/runs/td89g6hs' target=\"_blank\">decent-morning-4</a></strong> to <a href='https://wandb.ai/surf-2023/CIFAR10-Resnet18-Classification' target=\"_blank\">Weights & Biases</a> (<a href='https://wandb.me/run' target=\"_blank\">docs</a>)<br/>"
            ]
          },
          "metadata": {}
        },
        {
          "output_type": "display_data",
          "data": {
            "text/plain": [
              "<IPython.core.display.HTML object>"
            ],
            "text/html": [
              " View project at <a href='https://wandb.ai/surf-2023/CIFAR10-Resnet18-Classification' target=\"_blank\">https://wandb.ai/surf-2023/CIFAR10-Resnet18-Classification</a>"
            ]
          },
          "metadata": {}
        },
        {
          "output_type": "display_data",
          "data": {
            "text/plain": [
              "<IPython.core.display.HTML object>"
            ],
            "text/html": [
              " View run at <a href='https://wandb.ai/surf-2023/CIFAR10-Resnet18-Classification/runs/td89g6hs' target=\"_blank\">https://wandb.ai/surf-2023/CIFAR10-Resnet18-Classification/runs/td89g6hs</a>"
            ]
          },
          "metadata": {}
        },
        {
          "output_type": "stream",
          "name": "stdout",
          "text": [
            "|Epoch: 0\t|Loss: 1.89\t|Train Accuracy: 0.613\t|Test Accuracy: 0.695\n",
            "|Epoch: 1\t|Loss: 1.76\t|Train Accuracy: 0.724\t|Test Accuracy: 0.722\n",
            "|Epoch: 2\t|Loss: 1.74\t|Train Accuracy: 0.739\t|Test Accuracy: 0.731\n",
            "|Epoch: 3\t|Loss: 1.73\t|Train Accuracy: 0.749\t|Test Accuracy: 0.741\n"
          ]
        }
      ]
    },
    {
      "cell_type": "code",
      "source": [
        "for t in range(epochs, epochs + 4):\n",
        "    loss, train_correct = train_step(trainloader, clf_model)\n",
        "    train_accuracy = train_correct/len(train_data)\n",
        "\n",
        "    test_correct = test_step(testloader, clf_model)\n",
        "    test_accuracy = test_correct/len(test_data)\n",
        "\n",
        "    print(f'|Epoch: {t}\\t|Loss: {loss:.3}\\t|Train Accuracy: {train_accuracy:.3}\\t|Test Accuracy: {test_accuracy:.3}')\n",
        "\n",
        "    wandb.log({\"train_acc\": train_accuracy, \"test_acc\": test_accuracy, \"loss\": loss})\n",
        "\n",
        "epochs += 4"
      ],
      "metadata": {
        "colab": {
          "base_uri": "https://localhost:8080/"
        },
        "id": "-lCV-H3uUmf2",
        "outputId": "84d6d716-9a4a-4972-fadf-38045e4ab73e"
      },
      "execution_count": 101,
      "outputs": [
        {
          "output_type": "stream",
          "name": "stdout",
          "text": [
            "|Epoch: 4\t|Loss: 1.72\t|Train Accuracy: 0.754\t|Test Accuracy: 0.741\n",
            "|Epoch: 5\t|Loss: 1.71\t|Train Accuracy: 0.761\t|Test Accuracy: 0.746\n",
            "|Epoch: 6\t|Loss: 1.71\t|Train Accuracy: 0.764\t|Test Accuracy: 0.752\n",
            "|Epoch: 7\t|Loss: 1.7\t|Train Accuracy: 0.769\t|Test Accuracy: 0.755\n"
          ]
        }
      ]
    },
    {
      "cell_type": "code",
      "source": [
        "for t in range(epochs, epochs + 4):\n",
        "    loss, train_correct = train_step(trainloader, clf_model)\n",
        "    train_accuracy = train_correct/len(train_data)\n",
        "\n",
        "    test_correct = test_step(testloader, clf_model)\n",
        "    test_accuracy = test_correct/len(test_data)\n",
        "\n",
        "    print(f'|Epoch: {t}\\t|Loss: {loss:.3}\\t|Train Accuracy: {train_accuracy:.3}\\t|Test Accuracy: {test_accuracy:.3}')\n",
        "\n",
        "    wandb.log({\"train_acc\": train_accuracy, \"test_acc\": test_accuracy, \"loss\": loss})\n",
        "\n",
        "epochs += 4"
      ],
      "metadata": {
        "colab": {
          "base_uri": "https://localhost:8080/"
        },
        "id": "CCDaH7MaXKxB",
        "outputId": "ef0ded55-5b6f-47d6-8dae-8b702e291aa7"
      },
      "execution_count": 102,
      "outputs": [
        {
          "output_type": "stream",
          "name": "stdout",
          "text": [
            "|Epoch: 8\t|Loss: 1.7\t|Train Accuracy: 0.771\t|Test Accuracy: 0.758\n",
            "|Epoch: 9\t|Loss: 1.7\t|Train Accuracy: 0.776\t|Test Accuracy: 0.757\n",
            "|Epoch: 10\t|Loss: 1.69\t|Train Accuracy: 0.777\t|Test Accuracy: 0.76\n",
            "|Epoch: 11\t|Loss: 1.69\t|Train Accuracy: 0.78\t|Test Accuracy: 0.763\n"
          ]
        }
      ]
    },
    {
      "cell_type": "code",
      "source": [
        "for t in range(epochs, epochs + 4):\n",
        "    loss, train_correct = train_step(trainloader, clf_model)\n",
        "    train_accuracy = train_correct/len(train_data)\n",
        "\n",
        "    test_correct = test_step(testloader, clf_model)\n",
        "    test_accuracy = test_correct/len(test_data)\n",
        "\n",
        "    print(f'|Epoch: {t}\\t|Loss: {loss:.3}\\t|Train Accuracy: {train_accuracy:.3}\\t|Test Accuracy: {test_accuracy:.3}')\n",
        "\n",
        "    wandb.log({\"train_acc\": train_accuracy, \"test_acc\": test_accuracy, \"loss\": loss})\n",
        "\n",
        "epochs += 4"
      ],
      "metadata": {
        "colab": {
          "base_uri": "https://localhost:8080/"
        },
        "id": "i7BQL9T1ZkOn",
        "outputId": "47973bc2-ee11-40f0-96b8-5825a2138177"
      },
      "execution_count": 103,
      "outputs": [
        {
          "output_type": "stream",
          "name": "stdout",
          "text": [
            "|Epoch: 12\t|Loss: 1.69\t|Train Accuracy: 0.781\t|Test Accuracy: 0.765\n",
            "|Epoch: 13\t|Loss: 1.69\t|Train Accuracy: 0.785\t|Test Accuracy: 0.76\n",
            "|Epoch: 14\t|Loss: 1.68\t|Train Accuracy: 0.788\t|Test Accuracy: 0.766\n",
            "|Epoch: 15\t|Loss: 1.68\t|Train Accuracy: 0.792\t|Test Accuracy: 0.765\n"
          ]
        }
      ]
    },
    {
      "cell_type": "code",
      "source": [
        "for t in range(epochs, epochs + 4):\n",
        "    loss, train_correct = train_step(trainloader, clf_model)\n",
        "    train_accuracy = train_correct/len(train_data)\n",
        "\n",
        "    test_correct = test_step(testloader, clf_model)\n",
        "    test_accuracy = test_correct/len(test_data)\n",
        "\n",
        "    print(f'|Epoch: {t}\\t|Loss: {loss:.3}\\t|Train Accuracy: {train_accuracy:.3}\\t|Test Accuracy: {test_accuracy:.3}')\n",
        "\n",
        "    wandb.log({\"train_acc\": train_accuracy, \"test_acc\": test_accuracy, \"loss\": loss})\n",
        "\n",
        "epochs += 4"
      ],
      "metadata": {
        "colab": {
          "base_uri": "https://localhost:8080/"
        },
        "id": "PhP5XF8bb5Ue",
        "outputId": "d88684f1-28f3-4308-eefc-dc0b5475a456"
      },
      "execution_count": 104,
      "outputs": [
        {
          "output_type": "stream",
          "name": "stdout",
          "text": [
            "|Epoch: 16\t|Loss: 1.68\t|Train Accuracy: 0.792\t|Test Accuracy: 0.767\n",
            "|Epoch: 17\t|Loss: 1.68\t|Train Accuracy: 0.795\t|Test Accuracy: 0.769\n",
            "|Epoch: 18\t|Loss: 1.67\t|Train Accuracy: 0.798\t|Test Accuracy: 0.769\n",
            "|Epoch: 19\t|Loss: 1.67\t|Train Accuracy: 0.8\t|Test Accuracy: 0.771\n"
          ]
        }
      ]
    },
    {
      "cell_type": "code",
      "source": [
        "wandb.finish()"
      ],
      "metadata": {
        "colab": {
          "base_uri": "https://localhost:8080/",
          "height": 312,
          "referenced_widgets": [
            "2b5035bd6bb744eab80078acf102bf86",
            "40a67474ca8c424dbe2d6b840acb976c",
            "38b33b14b7e64c4392fb5ad983bb859e",
            "bba8bc36e7ec4180a3c97533c9855c96",
            "8e5cec763e2940aab114e72eabc679c9",
            "6cd56fb95173499bbaa0599fc2e862f4",
            "c496cb8c17cd4c99978bc3dc5a678dc1",
            "03ccc854fd5d45bab988a8bb2c228628"
          ]
        },
        "id": "B2nS1P6j_P88",
        "outputId": "1a3db970-968f-4320-ac25-7dfb36728ec8"
      },
      "execution_count": 105,
      "outputs": [
        {
          "output_type": "display_data",
          "data": {
            "text/plain": [
              "<IPython.core.display.HTML object>"
            ],
            "text/html": [
              "Waiting for W&B process to finish... <strong style=\"color:green\">(success).</strong>"
            ]
          },
          "metadata": {}
        },
        {
          "output_type": "display_data",
          "data": {
            "text/plain": [
              "VBox(children=(Label(value='0.001 MB of 0.001 MB uploaded (0.000 MB deduped)\\r'), FloatProgress(value=1.0, max…"
            ],
            "application/vnd.jupyter.widget-view+json": {
              "version_major": 2,
              "version_minor": 0,
              "model_id": "2b5035bd6bb744eab80078acf102bf86"
            }
          },
          "metadata": {}
        },
        {
          "output_type": "display_data",
          "data": {
            "text/plain": [
              "<IPython.core.display.HTML object>"
            ],
            "text/html": [
              "<style>\n",
              "    table.wandb td:nth-child(1) { padding: 0 10px; text-align: left ; width: auto;} td:nth-child(2) {text-align: left ; width: 100%}\n",
              "    .wandb-row { display: flex; flex-direction: row; flex-wrap: wrap; justify-content: flex-start; width: 100% }\n",
              "    .wandb-col { display: flex; flex-direction: column; flex-basis: 100%; flex: 1; padding: 10px; }\n",
              "    </style>\n",
              "<div class=\"wandb-row\"><div class=\"wandb-col\"><h3>Run history:</h3><br/><table class=\"wandb\"><tr><td>loss</td><td>█▄▃▃▃▂▂▂▂▂▂▂▂▁▁▁▁▁▁▁</td></tr><tr><td>test_acc</td><td>▁▄▄▅▅▆▆▇▇▇▇▇█▇█▇████</td></tr><tr><td>train_acc</td><td>▁▅▆▆▆▇▇▇▇▇▇▇▇▇██████</td></tr></table><br/></div><div class=\"wandb-col\"><h3>Run summary:</h3><br/><table class=\"wandb\"><tr><td>loss</td><td>1.6723</td></tr><tr><td>test_acc</td><td>0.7705</td></tr><tr><td>train_acc</td><td>0.80012</td></tr></table><br/></div></div>"
            ]
          },
          "metadata": {}
        },
        {
          "output_type": "display_data",
          "data": {
            "text/plain": [
              "<IPython.core.display.HTML object>"
            ],
            "text/html": [
              " View run <strong style=\"color:#cdcd00\">decent-morning-4</strong> at: <a href='https://wandb.ai/surf-2023/CIFAR10-Resnet18-Classification/runs/td89g6hs' target=\"_blank\">https://wandb.ai/surf-2023/CIFAR10-Resnet18-Classification/runs/td89g6hs</a><br/>Synced 5 W&B file(s), 0 media file(s), 0 artifact file(s) and 0 other file(s)"
            ]
          },
          "metadata": {}
        },
        {
          "output_type": "display_data",
          "data": {
            "text/plain": [
              "<IPython.core.display.HTML object>"
            ],
            "text/html": [
              "Find logs at: <code>./wandb/run-20230629_035313-td89g6hs/logs</code>"
            ]
          },
          "metadata": {}
        }
      ]
    },
    {
      "cell_type": "markdown",
      "source": [
        "## Saving Model"
      ],
      "metadata": {
        "id": "RUF0sMZjO27r"
      }
    },
    {
      "cell_type": "code",
      "source": [
        "timestr = time.strftime(\"%Y%m%d-%H%M%S\")\n",
        "\n",
        "path = '/content/drive/MyDrive/SURF_2023/Practice/models/clf_model' + timestr\n",
        "torch.save(clf_model.state_dict(), path)"
      ],
      "metadata": {
        "id": "xYJc596B6wbs"
      },
      "execution_count": 106,
      "outputs": []
    },
    {
      "cell_type": "code",
      "source": [
        "## using model\n",
        "# clf_model = Classification(model)\n",
        "# clf_model.load_state_dict(torch.load(path))"
      ],
      "metadata": {
        "id": "KuhA9GlT77ua"
      },
      "execution_count": 23,
      "outputs": []
    },
    {
      "cell_type": "code",
      "source": [
        "i = np.random.randint(0, high=len(train_data))\n",
        "\n",
        "predicted = classes[clf_model(torch.reshape(train_data[i][0].cuda(), (1, 3, 224, 224))).item()]\n",
        "actual = classes[train_data[i][1]]\n",
        "\n",
        "plt.figure(figsize=(2, 2))\n",
        "plt.imshow(np.array(train_data[i][0]).T)\n",
        "plt.title(f'Predicted: {predicted} Actual: {actual}')"
      ],
      "metadata": {
        "colab": {
          "base_uri": "https://localhost:8080/",
          "height": 273
        },
        "id": "bv_R3oZYPgrC",
        "outputId": "4b0f0368-cae8-44d1-94fe-834630a7e7e9"
      },
      "execution_count": 118,
      "outputs": [
        {
          "output_type": "stream",
          "name": "stderr",
          "text": [
            "WARNING:matplotlib.image:Clipping input data to the valid range for imshow with RGB data ([0..1] for floats or [0..255] for integers).\n"
          ]
        },
        {
          "output_type": "execute_result",
          "data": {
            "text/plain": [
              "Text(0.5, 1.0, 'Predicted: cat Actual: plane')"
            ]
          },
          "metadata": {},
          "execution_count": 118
        },
        {
          "output_type": "display_data",
          "data": {
            "text/plain": [
              "<Figure size 200x200 with 1 Axes>"
            ],
            "image/png": "[encoded data removed]"
          },
          "metadata": {}
        }
      ]
    }
  ]
}